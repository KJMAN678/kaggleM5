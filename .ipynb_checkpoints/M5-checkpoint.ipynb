{
 "cells": [
  {
   "cell_type": "markdown",
   "metadata": {},
   "source": [
    "## 参考  \n",
    "### kaggle notebook lightGBM\n",
    "https://www.kaggle.com/girmdshinsei/for-japanese-beginner-with-wrmsse-in-lgbm?scriptVersionId=31044557\n",
    "\n",
    "### lightGBM 時系列\n",
    "https://qiita.com/ground0state/items/657861de619a4e4a30de\n",
    "\n",
    "### Quick start catboost\n",
    "https://catboost.ai/docs/concepts/python-quickstart.html\n",
    "\n",
    "### Pythonでcatboostを使ってみる\n",
    "#### (cat_featuresの使い方を調べた)\n",
    "https://qiita.com/shin_mura/items/3d9ce25a60bdd25a3333\n",
    "\n",
    "### XGBoostパラメータのまとめとランダムサーチ実装\n",
    "https://qiita.com/FJyusk56/items/0649f4362587261bd57a"
   ]
  },
  {
   "cell_type": "code",
   "execution_count": 2,
   "metadata": {},
   "outputs": [],
   "source": [
    "import pandas as pd\n",
    "import os\n",
    "import gc\n",
    "import numpy as np\n",
    "import matplotlib.pyplot as plt\n",
    "\n",
    "# ラベルエンコーダー\n",
    "from sklearn import preprocessing, metrics\n",
    "\n",
    "# lightGBM\n",
    "import lightgbm as lgb\n",
    "\n",
    "# CatBoost\n",
    "from catboost import Pool, CatBoostRegressor\n",
    "\n",
    "# XGBoost\n",
    "import xgboost as xgb\n",
    "\n",
    "# 1セルでまとめて.head()、.tail()等を入力しても大丈夫になる\n",
    "from IPython.display import display\n",
    "\n",
    "# 誤差算定\n",
    "from sklearn.metrics import mean_absolute_error\n",
    "\n",
    "# 二乗平均平方根誤差 (RMSE)\n",
    "from sklearn.metrics import mean_squared_error\n",
    "\n",
    "# 決定係数\n",
    "from sklearn.metrics import r2_score\n",
    "\n",
    "import warnings\n",
    "warnings.filterwarnings('ignore')\n",
    "\n",
    "# DataFrameの表示数を変更\n",
    "pd.set_option('max_columns', 500)\n",
    "pd.set_option('max_rows', 500)"
   ]
  },
  {
   "cell_type": "markdown",
   "metadata": {},
   "source": [
    "### データ作成"
   ]
  },
  {
   "cell_type": "code",
   "execution_count": 4,
   "metadata": {},
   "outputs": [],
   "source": [
    "# ローカル用\n",
    "path = os.getcwd() + \"/\"\n",
    "\n",
    "# kaggle Notebook用\n",
    "INPUT_DIR = '../input/m5-forecasting-accuracy'"
   ]
  },
  {
   "cell_type": "markdown",
   "metadata": {},
   "source": [
    "calendar.csv -製品の販売日に関する情報が含まれています。\n",
    "sales_train_validation.csv -製品および店舗ごとの過去の毎日の販売台数データが​​含まれています [d_1 - d_1913]\n",
    "sample_submission.csv-提出の正しい形式。詳細については、「評価」タブを参照してください。\n",
    "sell_prices.csv -店舗および日付ごとに販売された製品の価格に関する情報が含まれています。\n",
    "\n",
    "sales_train_evaluation.csv-締め切りの1か月前に1回ご利用いただけます。売上高が含まれます[d_1 - d_1941]\n",
    "\n",
    "各行は含むidの連結であるitem_idとstore_idのいずれかである、validation（公共のランキングに対応する）、またはevaluation（プライベートランキングに対応します）。　　 F1-F28各行で販売されるアイテムの28予測日（）を予測しています。　　 以下のためのvalidation行、これに相当するd_1914 - d_1941、とのためevaluationの行、これに相当しますd_1942 - d_1969。　　\n",
    "\n",
    "validation d_1914 - d_1941の単価と量を予測する。１か月前に１回公開される。 evaluation d_1942-d_1969の単価と量を予測する"
   ]
  },
  {
   "cell_type": "markdown",
   "metadata": {},
   "source": [
    "### 作成データの読込"
   ]
  },
  {
   "cell_type": "code",
   "execution_count": null,
   "metadata": {},
   "outputs": [],
   "source": [
    "try:\n",
    "    stv_melt = pd.read_pickle(path + \"melt_stv.pkl\")\n",
    "except FileNotFoundError:\n",
    "    1"
   ]
  },
  {
   "cell_type": "markdown",
   "metadata": {},
   "source": [
    "### 通常通りcsvを読み込んでデータを作る"
   ]
  },
  {
   "cell_type": "code",
   "execution_count": null,
   "metadata": {},
   "outputs": [],
   "source": [
    "# sales_train_validation.csv\n",
    "try:\n",
    "    stv = pd.read_csv(path + \"sales_train_validation.csv\") # ローカル用\n",
    "except FileNotFoundError:\n",
    "    stv = pd.read_csv(f\"{INPUT_DIR}/sales_train_validation.csv\") # kaggle用\n",
    "\n",
    "    \n",
    "# calendar.csv\n",
    "try:\n",
    "    cal = pd.read_csv(path + \"calendar.csv\") # ローカル用\n",
    "except FileNotFoundError:\n",
    "    cal = pd.read_csv(f\"{INPUT_DIR}/calendar.csv\") # kaggle用\n",
    "\n",
    "    \n",
    "# sell_prices.csv\n",
    "try:\n",
    "    price = pd.read_csv(path + \"sell_prices.csv\") # ローカル用\n",
    "except FileNotFoundError:\n",
    "    price = pd.read_csv(f\"{INPUT_DIR}/sell_prices.csv\") # kaggle用\n",
    "\n",
    "    \n",
    "# sample_submission.csv\n",
    "try:\n",
    "    ss = pd.read_csv(path + \"sample_submission.csv\") # ローカル用\n",
    "except FileNotFoundError:\n",
    "    ss = pd.read_csv(f\"{INPUT_DIR}/sample_submission.csv\") # kaggle用\n",
    "\n",
    "stv.shape"
   ]
  },
  {
   "cell_type": "markdown",
   "metadata": {},
   "source": [
    "### ロースペックマシン限定"
   ]
  },
  {
   "cell_type": "markdown",
   "metadata": {},
   "source": [
    "stv = pd.read_csv(path + \"sales_train_validation.csv\",\n",
    "                               skiprows=lambda x: x not in range(0,1001))\n",
    "\n",
    "cal = pd.read_csv(path + \"calendar.csv\",\n",
    "                               skiprows=lambda x: x not in range(0,3001))\n",
    "\n",
    "price = pd.read_csv(path + \"sell_prices.csv\",\n",
    "                               skiprows=lambda x: x not in range(0,3001))\n",
    "\n",
    "ss = pd.read_csv(path + \"sample_submission.csv\",\n",
    "                               skiprows=lambda x: x not in range(0,1001))"
   ]
  },
  {
   "cell_type": "code",
   "execution_count": null,
   "metadata": {},
   "outputs": [],
   "source": [
    "display(stv.head())\n",
    "display(stv.tail())\n",
    "display(stv.dtypes)\n",
    "display(cal.head())\n",
    "display(cal.tail())\n",
    "display(cal.dtypes)\n",
    "display(cal.max())\n",
    "display(price.head())\n",
    "display(price.tail())\n",
    "display(price.dtypes)\n",
    "display(price.max())\n",
    "display(price.shape)\n",
    "display(ss.head())\n",
    "display(ss.tail())\n",
    "display(ss.shape)"
   ]
  },
  {
   "cell_type": "code",
   "execution_count": null,
   "metadata": {},
   "outputs": [],
   "source": [
    "day1_1913 = [f\"d_{i}\" for i in range(1, 1914)]"
   ]
  },
  {
   "cell_type": "code",
   "execution_count": null,
   "metadata": {},
   "outputs": [],
   "source": [
    "stv_melt =  pd.melt(stv, id_vars=['id','store_id','item_id'],\n",
    "           value_vars=day1_1913,\n",
    "           var_name = \"d\", value_name = \"vol\")"
   ]
  },
  {
   "cell_type": "code",
   "execution_count": null,
   "metadata": {},
   "outputs": [],
   "source": [
    "del day1_1913\n",
    "gc.collect()"
   ]
  },
  {
   "cell_type": "code",
   "execution_count": null,
   "metadata": {},
   "outputs": [],
   "source": [
    "product = stv[[\"id\",\"item_id\",\"store_id\"]]"
   ]
  },
  {
   "cell_type": "code",
   "execution_count": null,
   "metadata": {},
   "outputs": [],
   "source": [
    "ss_val = ss[0:30490]\n",
    "ss_val.columns = [\"id\"] + [f\"d_{d}\" for d in range(1914, 1942)]\n",
    "\n",
    "ss_eva = ss[30490:60980]\n",
    "ss_eva.columns = [\"id\"] + [f\"d_{d}\" for d in range(1942, 1970)]"
   ]
  },
  {
   "cell_type": "code",
   "execution_count": null,
   "metadata": {},
   "outputs": [],
   "source": [
    "ss_eva['id'] = ss_eva['id'].str.replace('_evaluation','_validation')"
   ]
  },
  {
   "cell_type": "code",
   "execution_count": null,
   "metadata": {},
   "outputs": [],
   "source": [
    "ss_val = pd.merge(ss_val, product, how = 'left', left_on = ['id'], right_on = ['id'])\n",
    "ss_eva = pd.merge(ss_eva, product, how = 'left', left_on = ['id'], right_on = ['id'])"
   ]
  },
  {
   "cell_type": "code",
   "execution_count": null,
   "metadata": {},
   "outputs": [],
   "source": [
    "display(ss_val.head(3))\n",
    "display(ss_val.tail(3))\n",
    "display(ss_val.shape)\n",
    "display(ss_eva.head(3))\n",
    "display(ss_eva.tail(3))\n",
    "display(ss_eva.shape)"
   ]
  },
  {
   "cell_type": "code",
   "execution_count": null,
   "metadata": {},
   "outputs": [],
   "source": [
    "val_1914_1941 = [f\"d_{i}\" for i in range(1914, 1942)]\n",
    "eva_1942_1969 = [f\"d_{i}\" for i in range(1942, 1970)]"
   ]
  },
  {
   "cell_type": "code",
   "execution_count": null,
   "metadata": {},
   "outputs": [],
   "source": [
    "val_melt =  pd.melt(ss_val, id_vars=['id','store_id', \"item_id\"],\n",
    "           value_vars=val_1914_1941,\n",
    "           var_name = \"d\", value_name = \"vol\")\n",
    "eva_melt =  pd.melt(ss_eva, id_vars=['id','store_id', \"item_id\"],\n",
    "           value_vars=eva_1942_1969,\n",
    "           var_name = \"d\", value_name = \"vol\")"
   ]
  },
  {
   "cell_type": "code",
   "execution_count": null,
   "metadata": {},
   "outputs": [],
   "source": [
    "stv_melt = pd.concat([stv_melt, val_melt, eva_melt])"
   ]
  },
  {
   "cell_type": "code",
   "execution_count": null,
   "metadata": {},
   "outputs": [],
   "source": [
    "display(stv_melt.head(3))\n",
    "display(stv_melt.tail(3))\n",
    "display(stv_melt.shape)"
   ]
  },
  {
   "cell_type": "code",
   "execution_count": null,
   "metadata": {},
   "outputs": [],
   "source": [
    "del ss, ss_val, ss_eva, val_1914_1941, eva_1942_1969, val_melt, eva_melt, product\n",
    "gc.collect()"
   ]
  },
  {
   "cell_type": "code",
   "execution_count": null,
   "metadata": {},
   "outputs": [],
   "source": [
    "cal = cal[[\"date\",\"wm_yr_wk\",\"d\",\"event_name_1\",\"event_type_1\",\"event_name_2\",\"event_type_2\"]]"
   ]
  },
  {
   "cell_type": "code",
   "execution_count": null,
   "metadata": {},
   "outputs": [],
   "source": [
    "stv_melt = pd.merge(stv_melt, cal, how = 'left', left_on = ['d'], right_on = ['d'])"
   ]
  },
  {
   "cell_type": "code",
   "execution_count": null,
   "metadata": {},
   "outputs": [],
   "source": [
    "del cal\n",
    "gc.collect()"
   ]
  },
  {
   "cell_type": "code",
   "execution_count": null,
   "metadata": {},
   "outputs": [],
   "source": [
    "display(stv_melt.head())\n",
    "display(stv_melt.tail())\n",
    "display(stv_melt.dtypes)\n",
    "display(stv_melt.shape)"
   ]
  },
  {
   "cell_type": "code",
   "execution_count": null,
   "metadata": {},
   "outputs": [],
   "source": [
    "stv_melt = stv_melt.merge(price, on = ['store_id', 'item_id', 'wm_yr_wk'], how = 'left')"
   ]
  },
  {
   "cell_type": "code",
   "execution_count": null,
   "metadata": {},
   "outputs": [],
   "source": [
    "del price\n",
    "gc.collect()"
   ]
  },
  {
   "cell_type": "code",
   "execution_count": null,
   "metadata": {},
   "outputs": [],
   "source": [
    "display(stv_melt.head())\n",
    "display(stv_melt.tail())\n",
    "display(stv_melt.dtypes)\n",
    "display(stv_melt.shape)"
   ]
  },
  {
   "cell_type": "markdown",
   "metadata": {},
   "source": [
    "### 特徴量作成"
   ]
  },
  {
   "cell_type": "code",
   "execution_count": null,
   "metadata": {},
   "outputs": [],
   "source": [
    "stv_melt[\"date2\"] = pd.to_datetime(stv_melt[\"date\"])"
   ]
  },
  {
   "cell_type": "code",
   "execution_count": null,
   "metadata": {},
   "outputs": [],
   "source": [
    "stv_melt[\"year\"] = stv_melt[\"date2\"].dt.year\n",
    "stv_melt[\"month\"] = stv_melt[\"date2\"].dt.month\n",
    "stv_melt[\"week\"] = stv_melt[\"date2\"].dt.week\n",
    "stv_melt[\"day\"] = stv_melt[\"date2\"].dt.day\n",
    "stv_melt[\"dayofweek\"] = stv_melt[\"date2\"].dt.dayofweek\n",
    "\n",
    "stv_melt[\"year\"] = stv_melt[\"year\"].astype('int8')\n",
    "stv_melt[\"month\"] = stv_melt[\"month\"].astype('int8')\n",
    "stv_melt[\"week\"] = stv_melt[\"week\"].astype('int8')\n",
    "stv_melt[\"day\"] = stv_melt[\"day\"].astype('int8')\n",
    "stv_melt[\"dayofweek\"] = stv_melt[\"dayofweek\"].astype('int8')"
   ]
  },
  {
   "cell_type": "code",
   "execution_count": null,
   "metadata": {},
   "outputs": [],
   "source": [
    "stv_melt = stv_melt.drop(\"date2\", axis=1)"
   ]
  },
  {
   "cell_type": "code",
   "execution_count": null,
   "metadata": {},
   "outputs": [],
   "source": [
    "#　ラグの作成\n",
    "for i in [7,30,90]:\n",
    "    stv_melt['shift%s'%i] = stv_melt[\"vol\"].shift(i)"
   ]
  },
  {
   "cell_type": "code",
   "execution_count": null,
   "metadata": {},
   "outputs": [],
   "source": [
    "# 平均値\n",
    "'''\n",
    "for i in [7,30,90]:\n",
    "    stv_melt['mean%s'%i] = stv_melt[\"vol\"].rolling(i).mean()\n",
    "'''"
   ]
  },
  {
   "cell_type": "code",
   "execution_count": null,
   "metadata": {},
   "outputs": [],
   "source": [
    "# 中央値\n",
    "'''\n",
    "for i in [7,30,90]:\n",
    "    stv_melt['median%s'%i] = stv_melt[\"vol\"].rolling(i).median()\n",
    "'''"
   ]
  },
  {
   "cell_type": "code",
   "execution_count": null,
   "metadata": {},
   "outputs": [],
   "source": [
    "# 最小値\n",
    "'''\n",
    "for i in [7,30,90]:\n",
    "    stv_melt['min%s'%i] = stv_melt[\"vol\"].rolling(i).min()\n",
    "'''"
   ]
  },
  {
   "cell_type": "code",
   "execution_count": null,
   "metadata": {},
   "outputs": [],
   "source": [
    "display(stv_melt.head(3))\n",
    "display(stv_melt.tail(3))\n",
    "display(stv_melt.dtypes)"
   ]
  },
  {
   "cell_type": "code",
   "execution_count": null,
   "metadata": {},
   "outputs": [],
   "source": [
    "stv_melt[\"vol\"] = stv_melt[[\"vol\"]].astype('int16')\n",
    "stv_melt[\"wm_yr_wk\"] = stv_melt[ \"wm_yr_wk\"].astype('int16')"
   ]
  },
  {
   "cell_type": "code",
   "execution_count": null,
   "metadata": {},
   "outputs": [],
   "source": [
    "stv_melt[\"sell_price\"] = stv_melt[\"sell_price\"].astype('float16')\n",
    "stv_melt[\"shift7\"] = stv_melt[\"shift7\"].astype('float16')"
   ]
  },
  {
   "cell_type": "code",
   "execution_count": null,
   "metadata": {},
   "outputs": [],
   "source": [
    "stv_melt[\"shift30\"] = stv_melt[\"shift30\"].astype('float16')\n",
    "stv_melt[\"shift90\"] = stv_melt[\"shift90\"].astype('float16')"
   ]
  },
  {
   "cell_type": "code",
   "execution_count": null,
   "metadata": {},
   "outputs": [],
   "source": [
    "# ラベルエンコーダー\n",
    "lbl = preprocessing.LabelEncoder()\n",
    "stv_melt[\"store_id\"] = lbl.fit_transform(stv_melt[\"store_id\"])\n",
    "stv_melt[\"item_id\"] = lbl.fit_transform(stv_melt[\"item_id\"])\n",
    "\n",
    "stv_melt[\"store_id\"] = stv_melt[\"store_id\"].astype('int8')\n",
    "stv_melt[\"item_id\"] = stv_melt[\"item_id\"].astype('int8')"
   ]
  },
  {
   "cell_type": "code",
   "execution_count": null,
   "metadata": {},
   "outputs": [],
   "source": [
    "# event は欠損値があるので前処理\n",
    "stv_melt[\"event_name_1\"] = stv_melt[\"event_name_1\"].fillna(\"missing\", inplace=True)\n",
    "stv_melt[\"event_type_1\"] = stv_melt[\"event_type_1\"].fillna(\"missing\", inplace=True)\n",
    "stv_melt[\"event_name_2\"] = stv_melt[\"event_name_2\"].fillna(\"missing\", inplace=True)\n",
    "stv_melt[\"event_type_2\"] = stv_melt[\"event_type_2\"].fillna(\"missing\", inplace=True)\n",
    "\n",
    "stv_melt[\"event_name_1\"] = lbl.fit_transform(stv_melt[\"event_name_1\"])\n",
    "stv_melt[\"event_type_1\"] = lbl.fit_transform(stv_melt[\"event_type_1\"])\n",
    "stv_melt[\"event_name_2\"] = lbl.fit_transform(stv_melt[\"event_name_2\"])\n",
    "stv_melt[\"event_type_2\"] = lbl.fit_transform(stv_melt[\"event_type_2\"])\n",
    "\n",
    "stv_melt[\"event_name_1\"] = stv_melt[\"event_name_1\"].astype('int8')\n",
    "stv_melt[\"event_name_2\"] = stv_melt[\"event_name_2\"].astype('int8')\n",
    "stv_melt[\"event_type_1\"] = stv_melt[\"event_type_1\"].astype('int8')\n",
    "stv_melt[\"event_type_2\"] = stv_melt[\"event_type_2\"].astype('int8')"
   ]
  },
  {
   "cell_type": "code",
   "execution_count": null,
   "metadata": {},
   "outputs": [],
   "source": [
    "display(stv_melt.head(3))\n",
    "display(stv_melt.tail(3))\n",
    "display(stv_melt.dtypes)"
   ]
  },
  {
   "cell_type": "markdown",
   "metadata": {},
   "source": [
    "### 学習用データセットの作成"
   ]
  },
  {
   "cell_type": "code",
   "execution_count": null,
   "metadata": {},
   "outputs": [],
   "source": [
    "x_train = stv_melt[stv_melt['date'] <= '2016-03-27']\n",
    "y_train = x_train['vol']\n",
    "x_val   = stv_melt[(stv_melt['date'] > '2016-03-27') & (stv_melt['date'] <= '2016-04-24')]\n",
    "y_val   = x_val['vol']\n",
    "test    = stv_melt[(stv_melt['date'] > '2016-04-24')]"
   ]
  },
  {
   "cell_type": "code",
   "execution_count": null,
   "metadata": {},
   "outputs": [],
   "source": [
    "display(test.head())\n",
    "display(test.tail())\n",
    "display(test.dtypes)\n",
    "display(test.shape)"
   ]
  },
  {
   "cell_type": "code",
   "execution_count": null,
   "metadata": {},
   "outputs": [],
   "source": [
    "del stv_melt\n",
    "gc.collect()"
   ]
  },
  {
   "cell_type": "markdown",
   "metadata": {},
   "source": [
    "### lightGBM モデルの実行"
   ]
  },
  {
   "cell_type": "code",
   "execution_count": null,
   "metadata": {},
   "outputs": [],
   "source": [
    "features = [\n",
    "    \"store_id\",\n",
    "    \"item_id\",\n",
    "    \"sell_price\",\n",
    "    \"shift7\",\n",
    "    \"shift30\",\n",
    "    \"shift90\",\n",
    "    \"event_name_1\",\n",
    "    \"event_type_1\",\n",
    "    \"event_name_2\",\n",
    "    \"event_type_2\",\n",
    "    \"year\",\n",
    "    \"month\",\n",
    "    \"week\",\n",
    "    \"day\",\n",
    "    \"dayofweek\"\n",
    "]"
   ]
  },
  {
   "cell_type": "code",
   "execution_count": null,
   "metadata": {},
   "outputs": [],
   "source": [
    "params = {\n",
    "    'boosting_type': 'gbdt',\n",
    "    'metric': 'rmse',\n",
    "    'objective': 'regression',\n",
    "    'n_jobs': -1,\n",
    "    'seed': 236,\n",
    "    'learning_rate': 0.1,\n",
    "    'bagging_fraction': 0.75,\n",
    "    'bagging_freq': 10, \n",
    "    'colsample_bytree': 0.75\n",
    "}"
   ]
  },
  {
   "cell_type": "code",
   "execution_count": null,
   "metadata": {},
   "outputs": [],
   "source": [
    "train_set = lgb.Dataset(x_train[features], y_train)\n",
    "val_set = lgb.Dataset(x_val[features], y_val)"
   ]
  },
  {
   "cell_type": "code",
   "execution_count": null,
   "metadata": {},
   "outputs": [],
   "source": [
    "model_lgb = lgb.train(params,\n",
    "                      train_set,\n",
    "                      num_boost_round = 5000,\n",
    "                      early_stopping_rounds = 50,\n",
    "                      valid_sets = [train_set, val_set],\n",
    "                      verbose_eval = 100)"
   ]
  },
  {
   "cell_type": "code",
   "execution_count": null,
   "metadata": {},
   "outputs": [],
   "source": [
    "val_pred = model_lgb.predict(x_val[features])\n",
    "val_score = np.sqrt(metrics.mean_squared_error(val_pred, y_val))\n",
    "print(f'Our val rmse score は {val_score}')"
   ]
  },
  {
   "cell_type": "code",
   "execution_count": null,
   "metadata": {},
   "outputs": [],
   "source": [
    "y_pred = model_lgb.predict(test[features])\n",
    "test['vol'] = y_pred"
   ]
  },
  {
   "cell_type": "code",
   "execution_count": null,
   "metadata": {},
   "outputs": [],
   "source": [
    "predictions = test[['id', 'date', 'vol']]\n",
    "predictions = pd.pivot(predictions, index = 'id', columns = 'date', values = 'vol').reset_index()"
   ]
  },
  {
   "cell_type": "code",
   "execution_count": null,
   "metadata": {},
   "outputs": [],
   "source": [
    "display(predictions.head())\n",
    "display(predictions.tail())\n",
    "display(predictions.shape)"
   ]
  },
  {
   "cell_type": "code",
   "execution_count": null,
   "metadata": {},
   "outputs": [],
   "source": [
    "del params, model_lgb, y_pred\n",
    "gc.collect()"
   ]
  },
  {
   "cell_type": "code",
   "execution_count": null,
   "metadata": {},
   "outputs": [],
   "source": [
    "pre_val = predictions.iloc[:,:29]"
   ]
  },
  {
   "cell_type": "code",
   "execution_count": null,
   "metadata": {},
   "outputs": [],
   "source": [
    "pre_eva = pd.concat([predictions.iloc[:,0],predictions.iloc[:,29:57]], axis=1)\n",
    "pre_eva['id'] = pre_eva['id'].str.replace('_validation', '_evaluation')"
   ]
  },
  {
   "cell_type": "code",
   "execution_count": null,
   "metadata": {},
   "outputs": [],
   "source": [
    "del predictions\n",
    "gc.collect()"
   ]
  },
  {
   "cell_type": "code",
   "execution_count": null,
   "metadata": {},
   "outputs": [],
   "source": [
    "pre_val.columns = ['id'] + ['F' + str(i + 1) for i in range(28)]\n",
    "pre_eva.columns = ['id'] + ['F' + str(i + 1) for i in range(28)]"
   ]
  },
  {
   "cell_type": "code",
   "execution_count": null,
   "metadata": {},
   "outputs": [],
   "source": [
    "display(pre_val.head())\n",
    "display(pre_val.tail())\n",
    "display(pre_val.shape)\n",
    "\n",
    "display(pre_eva.head())\n",
    "display(pre_eva.tail())\n",
    "display(pre_eva.shape)"
   ]
  },
  {
   "cell_type": "markdown",
   "metadata": {},
   "source": [
    "### 誤差率"
   ]
  },
  {
   "cell_type": "code",
   "execution_count": null,
   "metadata": {},
   "outputs": [],
   "source": [
    "sta = pd.read_csv(path + \"sales_train_evaluation.csv\")\n",
    "sta = sta[[\"d_1914\", \"d_1915\",\"d_1916\",\"d_1917\",\"d_1918\",\"d_1919\",\"d_1920\",\"d_1921\",\"d_1922\",\"d_1923\",\"d_1924\",\"d_1925\",\"d_1926\",\"d_1927\",\"d_1928\",\"d_1929\",\"d_1930\",\"d_1931\",\"d_1932\",\"d_1933\",\"d_1934\",\"d_1935\",\"d_1936\",\"d_1937\",\"d_1938\",\"d_1939\",\"d_1940\",\"d_1941\"]]\n",
    "sta.columns = [\"F1\", \"F2\",\"F3\",\"F4\",\"F5\",\"F6\",\"F7\",\"F8\",\"F9\",\"F10\",\"F11\",\"F12\",\"F13\",\"F14\",\"F15\",\"F16\",\"F17\",\"F18\",\"F19\",\"F20\",\"F21\",\"F22\",\"F23\",\"F24\",\"F25\",\"F26\",\"F27\",\"F28\"]\n",
    "\n",
    "for i in [\"F1\", \"F2\",\"F3\",\"F4\",\"F5\",\"F6\",\"F7\",\"F8\",\"F9\",\"F10\",\"F11\",\"F12\",\"F13\",\"F14\",\"F15\",\"F16\",\"F17\",\"F18\",\"F19\",\"F20\",\"F21\",\"F22\",\"F23\",\"F24\",\"F25\",\"F26\",\"F27\",\"F28\"]:\n",
    "    sta[i] = sta[i].astype('float64')"
   ]
  },
  {
   "cell_type": "code",
   "execution_count": null,
   "metadata": {},
   "outputs": [],
   "source": [
    "pre_val_temp = pre_val.drop(\"id\",axis=1)"
   ]
  },
  {
   "cell_type": "code",
   "execution_count": null,
   "metadata": {},
   "outputs": [],
   "source": [
    "lgb_score = []\n",
    "\n",
    "lgb_score.append(np.sqrt(mean_squared_error(sta, pre_val_temp)))\n",
    "lgb_score.append(mean_absolute_error(sta, pre_val_temp))\n",
    "lgb_score.append(r2_score(sta, pre_val_temp))\n",
    "\n",
    "for i in range(3):\n",
    "    print(lgb_score[i])\n",
    "\n",
    "f = open('lgb_score.txt', 'w')\n",
    "for x in lgb_score:\n",
    "    f.write(str(x) + \"\\n\")\n",
    "f.close()"
   ]
  },
  {
   "cell_type": "code",
   "execution_count": null,
   "metadata": {},
   "outputs": [],
   "source": [
    "del pre_val_temp, pre_val, lgb_score\n",
    "gc.collect()"
   ]
  },
  {
   "cell_type": "code",
   "execution_count": null,
   "metadata": {},
   "outputs": [],
   "source": [
    "pre_uni = pd.concat([sta, pre_eva], axis=0)"
   ]
  },
  {
   "cell_type": "code",
   "execution_count": null,
   "metadata": {},
   "outputs": [],
   "source": [
    "pre_uni.to_csv('submission_lgb.csv', index = False)"
   ]
  },
  {
   "cell_type": "code",
   "execution_count": null,
   "metadata": {},
   "outputs": [],
   "source": [
    "del sta, pre_uni\n",
    "gc.collect()"
   ]
  },
  {
   "cell_type": "markdown",
   "metadata": {},
   "source": [
    "### catboostの実行"
   ]
  },
  {
   "cell_type": "code",
   "execution_count": null,
   "metadata": {},
   "outputs": [],
   "source": [
    "features = [\n",
    "    \"store_id\",\n",
    "    \"item_id\",\n",
    "    \"sell_price\",\n",
    "    \"shift7\",\n",
    "    \"shift30\",\n",
    "    \"shift90\",\n",
    "    \"event_name_1\",\n",
    "    \"event_type_1\",\n",
    "    \"event_name_2\",\n",
    "    \"event_type_2\",\n",
    "    \"year\",\n",
    "    \"month\",\n",
    "    \"week\",\n",
    "    \"day\",\n",
    "    \"dayofweek\"\n",
    "]"
   ]
  },
  {
   "cell_type": "code",
   "execution_count": null,
   "metadata": {},
   "outputs": [],
   "source": [
    "# initialize Pool\n",
    "train_pool = Pool(x_train[features], \n",
    "                  y_train)\n",
    "\n",
    "test_pool = Pool(test[features])"
   ]
  },
  {
   "cell_type": "code",
   "execution_count": null,
   "metadata": {},
   "outputs": [],
   "source": [
    "# specify the training parameters\n",
    "model2 = CatBoostRegressor(iterations=500,\n",
    "                          depth=5,\n",
    "                          learning_rate=0.05,\n",
    "                          loss_function='RMSE')"
   ]
  },
  {
   "cell_type": "code",
   "execution_count": null,
   "metadata": {},
   "outputs": [],
   "source": [
    "#train the model\n",
    "model2.fit(train_pool)"
   ]
  },
  {
   "cell_type": "code",
   "execution_count": null,
   "metadata": {},
   "outputs": [],
   "source": [
    "# make the prediction using the resulting model\n",
    "preds2 = model2.predict(test_pool)"
   ]
  },
  {
   "cell_type": "code",
   "execution_count": null,
   "metadata": {},
   "outputs": [],
   "source": [
    "del model2\n",
    "gc.collect()"
   ]
  },
  {
   "cell_type": "code",
   "execution_count": null,
   "metadata": {},
   "outputs": [],
   "source": [
    "test2 = test\n",
    "test2['vol'] = preds2"
   ]
  },
  {
   "cell_type": "code",
   "execution_count": null,
   "metadata": {},
   "outputs": [],
   "source": [
    "predictions2 = test2[['id', 'date', 'vol']]\n",
    "predictions2 = pd.pivot(predictions2, index = 'id', columns = 'date', values = 'vol').reset_index()"
   ]
  },
  {
   "cell_type": "code",
   "execution_count": null,
   "metadata": {},
   "outputs": [],
   "source": [
    "del train_pool, test_pool, test2, preds2\n",
    "gc.collect()"
   ]
  },
  {
   "cell_type": "code",
   "execution_count": null,
   "metadata": {},
   "outputs": [],
   "source": [
    "pre_val2 = predictions2.iloc[:,:29]"
   ]
  },
  {
   "cell_type": "code",
   "execution_count": null,
   "metadata": {},
   "outputs": [],
   "source": [
    "pre_eva2 = pd.concat([predictions2.iloc[:,0],predictions2.iloc[:,29:57]], axis=1)\n",
    "pre_eva2['id'] = pre_eva2['id'].str.replace('_validation', '_evaluation')"
   ]
  },
  {
   "cell_type": "code",
   "execution_count": null,
   "metadata": {},
   "outputs": [],
   "source": [
    "del predictions2\n",
    "gc.collect()"
   ]
  },
  {
   "cell_type": "code",
   "execution_count": null,
   "metadata": {},
   "outputs": [],
   "source": [
    "pre_val2.columns = ['id'] + ['F' + str(i + 1) for i in range(28)]\n",
    "pre_eva2.columns = ['id'] + ['F' + str(i + 1) for i in range(28)]"
   ]
  },
  {
   "cell_type": "code",
   "execution_count": null,
   "metadata": {},
   "outputs": [],
   "source": [
    "display(pre_val2.head())\n",
    "display(pre_val2.tail())\n",
    "display(pre_val2.shape)\n",
    "\n",
    "display(pre_eva2.head())\n",
    "display(pre_eva2.tail())\n",
    "display(pre_eva2.shape)"
   ]
  },
  {
   "cell_type": "markdown",
   "metadata": {},
   "source": [
    "### 誤差率"
   ]
  },
  {
   "cell_type": "code",
   "execution_count": null,
   "metadata": {},
   "outputs": [],
   "source": [
    "sta = pd.read_csv(path + \"sales_train_evaluation.csv\")\n",
    "sta = sta[[\"d_1914\", \"d_1915\",\"d_1916\",\"d_1917\",\"d_1918\",\"d_1919\",\"d_1920\",\"d_1921\",\"d_1922\",\"d_1923\",\"d_1924\",\"d_1925\",\"d_1926\",\"d_1927\",\"d_1928\",\"d_1929\",\"d_1930\",\"d_1931\",\"d_1932\",\"d_1933\",\"d_1934\",\"d_1935\",\"d_1936\",\"d_1937\",\"d_1938\",\"d_1939\",\"d_1940\",\"d_1941\"]]\n",
    "sta.columns = [\"F1\", \"F2\",\"F3\",\"F4\",\"F5\",\"F6\",\"F7\",\"F8\",\"F9\",\"F10\",\"F11\",\"F12\",\"F13\",\"F14\",\"F15\",\"F16\",\"F17\",\"F18\",\"F19\",\"F20\",\"F21\",\"F22\",\"F23\",\"F24\",\"F25\",\"F26\",\"F27\",\"F28\"]\n",
    "\n",
    "for i in [\"F1\", \"F2\",\"F3\",\"F4\",\"F5\",\"F6\",\"F7\",\"F8\",\"F9\",\"F10\",\"F11\",\"F12\",\"F13\",\"F14\",\"F15\",\"F16\",\"F17\",\"F18\",\"F19\",\"F20\",\"F21\",\"F22\",\"F23\",\"F24\",\"F25\",\"F26\",\"F27\",\"F28\"]:\n",
    "    sta[i] = sta[i].astype('float64')"
   ]
  },
  {
   "cell_type": "code",
   "execution_count": null,
   "metadata": {},
   "outputs": [],
   "source": [
    "pre_val2_temp = pre_val2.drop(\"id\",axis=1)"
   ]
  },
  {
   "cell_type": "code",
   "execution_count": null,
   "metadata": {},
   "outputs": [],
   "source": [
    "ctb_score = []\n",
    "\n",
    "ctb_score.append(np.sqrt(mean_squared_error(sta, pre_val2_temp)))\n",
    "ctb_score.append(mean_absolute_error(sta, pre_val2_temp))\n",
    "ctb_score.append(r2_score(sta, pre_val2_temp))\n",
    "\n",
    "for i in range(3):\n",
    "    print(ctb_score[i])\n",
    "\n",
    "f = open('ctb_score.txt', 'w')\n",
    "for x in ctb_score:\n",
    "    f.write(str(x) + \"\\n\")\n",
    "f.close()"
   ]
  },
  {
   "cell_type": "code",
   "execution_count": null,
   "metadata": {},
   "outputs": [],
   "source": [
    "del pre_val2_temp, pre_val2, ctb_score\n",
    "gc.collect()"
   ]
  },
  {
   "cell_type": "code",
   "execution_count": null,
   "metadata": {},
   "outputs": [],
   "source": [
    "pre_uni2 = pd.concat([sta, pre_eva2], axis=0)"
   ]
  },
  {
   "cell_type": "code",
   "execution_count": null,
   "metadata": {},
   "outputs": [],
   "source": [
    "pre_uni2.to_csv('submission_ctb.csv', index = False)"
   ]
  },
  {
   "cell_type": "code",
   "execution_count": null,
   "metadata": {},
   "outputs": [],
   "source": [
    "del sta, pre_uni2, pre_eva2, features\n",
    "gc.collect()"
   ]
  },
  {
   "cell_type": "markdown",
   "metadata": {},
   "source": [
    "### XGboost モデルの実行"
   ]
  },
  {
   "cell_type": "code",
   "execution_count": null,
   "metadata": {},
   "outputs": [],
   "source": [
    "xgb_features = [\n",
    "    \"store_id\",\n",
    "    \"sell_price\",\n",
    "    \"event_name_1\",\n",
    "    \"event_type_1\",\n",
    "    \"event_name_2\",\n",
    "    \"event_type_2\",\n",
    "    \"year\",\n",
    "    \"month\",\n",
    "    \"week\",\n",
    "    \"day\"\n",
    "]"
   ]
  },
  {
   "cell_type": "code",
   "execution_count": null,
   "metadata": {},
   "outputs": [],
   "source": [
    "# 学習用のパラメータ\n",
    "xgb_params = {\n",
    "        # 回帰問題\n",
    "        'objective': 'reg:linear',\n",
    "        # 学習用の指標 (RMSE)\n",
    "        'eval_metric': 'rmse',\n",
    "    }\n",
    "# param['nthread'] = 4\n",
    "# param['eval_metric'] = 'auc'"
   ]
  },
  {
   "cell_type": "code",
   "execution_count": null,
   "metadata": {},
   "outputs": [],
   "source": [
    "dtrain = xgb.DMatrix(x_train[xgb_features], label=y_train)\n",
    "dtest = xgb.DMatrix(test[xgb_features], label=test['vol'])\n",
    "deval= xgb.DMatrix(x_val[xgb_features], label=y_val)"
   ]
  },
  {
   "cell_type": "code",
   "execution_count": null,
   "metadata": {},
   "outputs": [],
   "source": [
    "display(x_train[xgb_features].shape)\n",
    "display(y_train.shape)\n",
    "display(x_val[xgb_features].shape)\n",
    "display(y_val.shape)"
   ]
  },
  {
   "cell_type": "code",
   "execution_count": null,
   "metadata": {},
   "outputs": [],
   "source": [
    "evals = [(dtrain, 'train'), (deval, 'eval')]"
   ]
  },
  {
   "cell_type": "code",
   "execution_count": null,
   "metadata": {},
   "outputs": [],
   "source": [
    "evals_result = {}"
   ]
  },
  {
   "cell_type": "code",
   "execution_count": null,
   "metadata": {},
   "outputs": [],
   "source": [
    "model3 = xgb.train(xgb_params,\n",
    "                    dtrain,\n",
    "                    num_boost_round=600,\n",
    "                    early_stopping_rounds=10,\n",
    "                    evals=evals,\n",
    "                    evals_result=evals_result,\n",
    "                    )"
   ]
  },
  {
   "cell_type": "code",
   "execution_count": null,
   "metadata": {},
   "outputs": [],
   "source": [
    "# 検証用データが各クラスに分類される確率を計算する\n",
    "y_pred3 = model3.predict(dtest)"
   ]
  },
  {
   "cell_type": "code",
   "execution_count": null,
   "metadata": {},
   "outputs": [],
   "source": [
    "del model3, xgb_params, xgb_features, dtrain, dtest, evals, x_val, y_val, \n",
    "gc.collect()"
   ]
  },
  {
   "cell_type": "code",
   "execution_count": null,
   "metadata": {},
   "outputs": [],
   "source": [
    "display(len(y_pred3))\n",
    "display(test.head())\n",
    "display(test.shape)"
   ]
  },
  {
   "cell_type": "code",
   "execution_count": null,
   "metadata": {},
   "outputs": [],
   "source": [
    "test3 = test\n",
    "test3['vol'] = y_pred3"
   ]
  },
  {
   "cell_type": "code",
   "execution_count": null,
   "metadata": {},
   "outputs": [],
   "source": [
    "predictions3 = test3[['id', 'date', 'vol']]\n",
    "predictions3 = pd.pivot(predictions3, index = 'id', columns = 'date', values = 'vol').reset_index()"
   ]
  },
  {
   "cell_type": "code",
   "execution_count": null,
   "metadata": {},
   "outputs": [],
   "source": [
    "pre_val3 = predictions3.iloc[:,:29]"
   ]
  },
  {
   "cell_type": "code",
   "execution_count": null,
   "metadata": {},
   "outputs": [],
   "source": [
    "pre_eva3 = pd.concat([predictions3.iloc[:,0],predictions3.iloc[:,29:57]], axis=1)\n",
    "pre_eva3['id'] = pre_eva3['id'].str.replace('_validation', '_evaluation')"
   ]
  },
  {
   "cell_type": "code",
   "execution_count": null,
   "metadata": {},
   "outputs": [],
   "source": [
    "del test3, predictions3, \n",
    "gc.collect()"
   ]
  },
  {
   "cell_type": "code",
   "execution_count": null,
   "metadata": {},
   "outputs": [],
   "source": [
    "pre_val3.columns = ['id'] + ['F' + str(i + 1) for i in range(28)]\n",
    "pre_eva3.columns = ['id'] + ['F' + str(i + 1) for i in range(28)]"
   ]
  },
  {
   "cell_type": "code",
   "execution_count": null,
   "metadata": {},
   "outputs": [],
   "source": [
    "display(pre_val3.head())\n",
    "display(pre_val3.tail())\n",
    "display(pre_val3.shape)\n",
    "\n",
    "display(pre_eva3.head())\n",
    "display(pre_eva3.tail())\n",
    "display(pre_eva3.shape)"
   ]
  },
  {
   "cell_type": "code",
   "execution_count": null,
   "metadata": {},
   "outputs": [],
   "source": [
    "sta = pd.read_csv(path + \"sales_train_evaluation.csv\")\n",
    "sta = sta[[\"d_1914\", \"d_1915\",\"d_1916\",\"d_1917\",\"d_1918\",\"d_1919\",\"d_1920\",\"d_1921\",\"d_1922\",\"d_1923\",\"d_1924\",\"d_1925\",\"d_1926\",\"d_1927\",\"d_1928\",\"d_1929\",\"d_1930\",\"d_1931\",\"d_1932\",\"d_1933\",\"d_1934\",\"d_1935\",\"d_1936\",\"d_1937\",\"d_1938\",\"d_1939\",\"d_1940\",\"d_1941\"]]\n",
    "sta.columns = [\"F1\", \"F2\",\"F3\",\"F4\",\"F5\",\"F6\",\"F7\",\"F8\",\"F9\",\"F10\",\"F11\",\"F12\",\"F13\",\"F14\",\"F15\",\"F16\",\"F17\",\"F18\",\"F19\",\"F20\",\"F21\",\"F22\",\"F23\",\"F24\",\"F25\",\"F26\",\"F27\",\"F28\"]\n",
    "\n",
    "for i in [\"F1\", \"F2\",\"F3\",\"F4\",\"F5\",\"F6\",\"F7\",\"F8\",\"F9\",\"F10\",\"F11\",\"F12\",\"F13\",\"F14\",\"F15\",\"F16\",\"F17\",\"F18\",\"F19\",\"F20\",\"F21\",\"F22\",\"F23\",\"F24\",\"F25\",\"F26\",\"F27\",\"F28\"]:\n",
    "    sta[i] = sta[i].astype('float64')"
   ]
  },
  {
   "cell_type": "code",
   "execution_count": null,
   "metadata": {},
   "outputs": [],
   "source": [
    "pre_val3_temp = pre_val3.drop(\"id\",axis=1)"
   ]
  },
  {
   "cell_type": "code",
   "execution_count": null,
   "metadata": {},
   "outputs": [],
   "source": [
    "xgb_score = []\n",
    "\n",
    "xgb_score.append(np.sqrt(mean_squared_error(sta, pre_val3_temp)))\n",
    "xgb_score.append(mean_absolute_error(sta, pre_val3_temp))\n",
    "xgb_score.append(r2_score(sta, pre_val3_temp))\n",
    "\n",
    "for i in range(3):\n",
    "    print(xgb_score[i])\n",
    "\n",
    "f = open('xgb_score.txt', 'w')\n",
    "for x in xgb_score:\n",
    "    f.write(str(x) + \"\\n\")\n",
    "f.close()"
   ]
  },
  {
   "cell_type": "code",
   "execution_count": null,
   "metadata": {},
   "outputs": [],
   "source": [
    "del x_train, y_train, test, pre_val3_temp, pre_val3, xgb_score\n",
    "gc.collect()"
   ]
  },
  {
   "cell_type": "code",
   "execution_count": null,
   "metadata": {},
   "outputs": [],
   "source": [
    "pre_uni3 = pd.concat([sta, pre_eva3], axis=0)"
   ]
  },
  {
   "cell_type": "code",
   "execution_count": null,
   "metadata": {},
   "outputs": [],
   "source": [
    "pre_uni3.to_csv('submission_xgb.csv', index = False)"
   ]
  },
  {
   "cell_type": "code",
   "execution_count": null,
   "metadata": {},
   "outputs": [],
   "source": [
    "del sta, pre_uni3, pre_eva3\n",
    "gc.collect()"
   ]
  },
  {
   "cell_type": "markdown",
   "metadata": {},
   "source": [
    "### データ統合 csv保存"
   ]
  },
  {
   "cell_type": "code",
   "execution_count": 41,
   "metadata": {},
   "outputs": [],
   "source": [
    "pre_uni  = pd.read_csv(path + \"submission_lgb.csv\")\n",
    "pre_uni2 = pd.read_csv(path + \"submission_ctb.csv\")\n",
    "pre_uni3 = pd.read_csv(path + \"submission_xgb.csv\")"
   ]
  },
  {
   "cell_type": "code",
   "execution_count": 42,
   "metadata": {},
   "outputs": [],
   "source": [
    "pre_uni_am = pre_uni.set_index('id') * 0.1 + pre_uni2.set_index('id') * 0.2 + pre_uni3.set_index('id') * 0.7"
   ]
  },
  {
   "cell_type": "code",
   "execution_count": 43,
   "metadata": {},
   "outputs": [
    {
     "data": {
      "text/html": [
       "<div>\n",
       "<style scoped>\n",
       "    .dataframe tbody tr th:only-of-type {\n",
       "        vertical-align: middle;\n",
       "    }\n",
       "\n",
       "    .dataframe tbody tr th {\n",
       "        vertical-align: top;\n",
       "    }\n",
       "\n",
       "    .dataframe thead th {\n",
       "        text-align: right;\n",
       "    }\n",
       "</style>\n",
       "<table border=\"1\" class=\"dataframe\">\n",
       "  <thead>\n",
       "    <tr style=\"text-align: right;\">\n",
       "      <th></th>\n",
       "      <th>F1</th>\n",
       "      <th>F2</th>\n",
       "      <th>F3</th>\n",
       "      <th>F4</th>\n",
       "      <th>F5</th>\n",
       "      <th>F6</th>\n",
       "      <th>F7</th>\n",
       "      <th>F8</th>\n",
       "      <th>F9</th>\n",
       "      <th>F10</th>\n",
       "      <th>F11</th>\n",
       "      <th>F12</th>\n",
       "      <th>F13</th>\n",
       "      <th>F14</th>\n",
       "      <th>F15</th>\n",
       "      <th>F16</th>\n",
       "      <th>F17</th>\n",
       "      <th>F18</th>\n",
       "      <th>F19</th>\n",
       "      <th>F20</th>\n",
       "      <th>F21</th>\n",
       "      <th>F22</th>\n",
       "      <th>F23</th>\n",
       "      <th>F24</th>\n",
       "      <th>F25</th>\n",
       "      <th>F26</th>\n",
       "      <th>F27</th>\n",
       "      <th>F28</th>\n",
       "    </tr>\n",
       "  </thead>\n",
       "  <tbody>\n",
       "    <tr>\n",
       "      <th>0</th>\n",
       "      <td>0.0</td>\n",
       "      <td>0.0</td>\n",
       "      <td>0.0</td>\n",
       "      <td>2.0</td>\n",
       "      <td>0.0</td>\n",
       "      <td>3.0</td>\n",
       "      <td>5.0</td>\n",
       "      <td>0.0</td>\n",
       "      <td>0.0</td>\n",
       "      <td>1.0</td>\n",
       "      <td>1.0</td>\n",
       "      <td>0.0</td>\n",
       "      <td>2.0</td>\n",
       "      <td>1.0</td>\n",
       "      <td>2.0</td>\n",
       "      <td>2.0</td>\n",
       "      <td>1.0</td>\n",
       "      <td>0.0</td>\n",
       "      <td>2.0</td>\n",
       "      <td>4.0</td>\n",
       "      <td>0.0</td>\n",
       "      <td>0.0</td>\n",
       "      <td>0.0</td>\n",
       "      <td>0.0</td>\n",
       "      <td>3.0</td>\n",
       "      <td>3.0</td>\n",
       "      <td>0.0</td>\n",
       "      <td>1.0</td>\n",
       "    </tr>\n",
       "    <tr>\n",
       "      <th>1</th>\n",
       "      <td>0.0</td>\n",
       "      <td>1.0</td>\n",
       "      <td>0.0</td>\n",
       "      <td>0.0</td>\n",
       "      <td>0.0</td>\n",
       "      <td>0.0</td>\n",
       "      <td>0.0</td>\n",
       "      <td>0.0</td>\n",
       "      <td>0.0</td>\n",
       "      <td>1.0</td>\n",
       "      <td>0.0</td>\n",
       "      <td>0.0</td>\n",
       "      <td>0.0</td>\n",
       "      <td>0.0</td>\n",
       "      <td>0.0</td>\n",
       "      <td>0.0</td>\n",
       "      <td>0.0</td>\n",
       "      <td>0.0</td>\n",
       "      <td>0.0</td>\n",
       "      <td>1.0</td>\n",
       "      <td>2.0</td>\n",
       "      <td>1.0</td>\n",
       "      <td>1.0</td>\n",
       "      <td>0.0</td>\n",
       "      <td>0.0</td>\n",
       "      <td>0.0</td>\n",
       "      <td>0.0</td>\n",
       "      <td>0.0</td>\n",
       "    </tr>\n",
       "    <tr>\n",
       "      <th>2</th>\n",
       "      <td>0.0</td>\n",
       "      <td>0.0</td>\n",
       "      <td>1.0</td>\n",
       "      <td>1.0</td>\n",
       "      <td>0.0</td>\n",
       "      <td>2.0</td>\n",
       "      <td>1.0</td>\n",
       "      <td>0.0</td>\n",
       "      <td>0.0</td>\n",
       "      <td>0.0</td>\n",
       "      <td>0.0</td>\n",
       "      <td>2.0</td>\n",
       "      <td>1.0</td>\n",
       "      <td>3.0</td>\n",
       "      <td>0.0</td>\n",
       "      <td>0.0</td>\n",
       "      <td>1.0</td>\n",
       "      <td>0.0</td>\n",
       "      <td>1.0</td>\n",
       "      <td>0.0</td>\n",
       "      <td>2.0</td>\n",
       "      <td>0.0</td>\n",
       "      <td>0.0</td>\n",
       "      <td>0.0</td>\n",
       "      <td>2.0</td>\n",
       "      <td>3.0</td>\n",
       "      <td>0.0</td>\n",
       "      <td>1.0</td>\n",
       "    </tr>\n",
       "    <tr>\n",
       "      <th>3</th>\n",
       "      <td>0.0</td>\n",
       "      <td>0.0</td>\n",
       "      <td>1.0</td>\n",
       "      <td>2.0</td>\n",
       "      <td>4.0</td>\n",
       "      <td>1.0</td>\n",
       "      <td>6.0</td>\n",
       "      <td>4.0</td>\n",
       "      <td>0.0</td>\n",
       "      <td>0.0</td>\n",
       "      <td>0.0</td>\n",
       "      <td>2.0</td>\n",
       "      <td>2.0</td>\n",
       "      <td>4.0</td>\n",
       "      <td>2.0</td>\n",
       "      <td>1.0</td>\n",
       "      <td>1.0</td>\n",
       "      <td>1.0</td>\n",
       "      <td>1.0</td>\n",
       "      <td>1.0</td>\n",
       "      <td>0.0</td>\n",
       "      <td>4.0</td>\n",
       "      <td>0.0</td>\n",
       "      <td>1.0</td>\n",
       "      <td>3.0</td>\n",
       "      <td>0.0</td>\n",
       "      <td>2.0</td>\n",
       "      <td>6.0</td>\n",
       "    </tr>\n",
       "    <tr>\n",
       "      <th>4</th>\n",
       "      <td>1.0</td>\n",
       "      <td>0.0</td>\n",
       "      <td>2.0</td>\n",
       "      <td>3.0</td>\n",
       "      <td>1.0</td>\n",
       "      <td>0.0</td>\n",
       "      <td>3.0</td>\n",
       "      <td>2.0</td>\n",
       "      <td>3.0</td>\n",
       "      <td>1.0</td>\n",
       "      <td>1.0</td>\n",
       "      <td>3.0</td>\n",
       "      <td>2.0</td>\n",
       "      <td>3.0</td>\n",
       "      <td>2.0</td>\n",
       "      <td>2.0</td>\n",
       "      <td>2.0</td>\n",
       "      <td>2.0</td>\n",
       "      <td>0.0</td>\n",
       "      <td>0.0</td>\n",
       "      <td>0.0</td>\n",
       "      <td>2.0</td>\n",
       "      <td>1.0</td>\n",
       "      <td>0.0</td>\n",
       "      <td>0.0</td>\n",
       "      <td>2.0</td>\n",
       "      <td>1.0</td>\n",
       "      <td>0.0</td>\n",
       "    </tr>\n",
       "  </tbody>\n",
       "</table>\n",
       "</div>"
      ],
      "text/plain": [
       "    F1   F2   F3   F4   F5   F6   F7   F8   F9  F10  F11  F12  F13  F14  F15  \\\n",
       "0  0.0  0.0  0.0  2.0  0.0  3.0  5.0  0.0  0.0  1.0  1.0  0.0  2.0  1.0  2.0   \n",
       "1  0.0  1.0  0.0  0.0  0.0  0.0  0.0  0.0  0.0  1.0  0.0  0.0  0.0  0.0  0.0   \n",
       "2  0.0  0.0  1.0  1.0  0.0  2.0  1.0  0.0  0.0  0.0  0.0  2.0  1.0  3.0  0.0   \n",
       "3  0.0  0.0  1.0  2.0  4.0  1.0  6.0  4.0  0.0  0.0  0.0  2.0  2.0  4.0  2.0   \n",
       "4  1.0  0.0  2.0  3.0  1.0  0.0  3.0  2.0  3.0  1.0  1.0  3.0  2.0  3.0  2.0   \n",
       "\n",
       "   F16  F17  F18  F19  F20  F21  F22  F23  F24  F25  F26  F27  F28  \n",
       "0  2.0  1.0  0.0  2.0  4.0  0.0  0.0  0.0  0.0  3.0  3.0  0.0  1.0  \n",
       "1  0.0  0.0  0.0  0.0  1.0  2.0  1.0  1.0  0.0  0.0  0.0  0.0  0.0  \n",
       "2  0.0  1.0  0.0  1.0  0.0  2.0  0.0  0.0  0.0  2.0  3.0  0.0  1.0  \n",
       "3  1.0  1.0  1.0  1.0  1.0  0.0  4.0  0.0  1.0  3.0  0.0  2.0  6.0  \n",
       "4  2.0  2.0  2.0  0.0  0.0  0.0  2.0  1.0  0.0  0.0  2.0  1.0  0.0  "
      ]
     },
     "metadata": {},
     "output_type": "display_data"
    },
    {
     "data": {
      "text/plain": [
       "Index(['F1', 'F2', 'F3', 'F4', 'F5', 'F6', 'F7', 'F8', 'F9', 'F10', 'F11',\n",
       "       'F12', 'F13', 'F14', 'F15', 'F16', 'F17', 'F18', 'F19', 'F20', 'F21',\n",
       "       'F22', 'F23', 'F24', 'F25', 'F26', 'F27', 'F28'],\n",
       "      dtype='object')"
      ]
     },
     "metadata": {},
     "output_type": "display_data"
    }
   ],
   "source": [
    "pre_uni_am = pre_uni_am.reset_index()\n",
    "pre_uni_am = pre_uni_am.drop(\"id\", axis=1)\n",
    "display(pre_uni_am.head())\n",
    "display(pre_uni_am.columns)"
   ]
  },
  {
   "cell_type": "code",
   "execution_count": 44,
   "metadata": {},
   "outputs": [
    {
     "data": {
      "text/html": [
       "<div>\n",
       "<style scoped>\n",
       "    .dataframe tbody tr th:only-of-type {\n",
       "        vertical-align: middle;\n",
       "    }\n",
       "\n",
       "    .dataframe tbody tr th {\n",
       "        vertical-align: top;\n",
       "    }\n",
       "\n",
       "    .dataframe thead th {\n",
       "        text-align: right;\n",
       "    }\n",
       "</style>\n",
       "<table border=\"1\" class=\"dataframe\">\n",
       "  <thead>\n",
       "    <tr style=\"text-align: right;\">\n",
       "      <th></th>\n",
       "      <th>id</th>\n",
       "      <th>F1</th>\n",
       "      <th>F2</th>\n",
       "      <th>F3</th>\n",
       "      <th>F4</th>\n",
       "      <th>F5</th>\n",
       "      <th>F6</th>\n",
       "      <th>F7</th>\n",
       "      <th>F8</th>\n",
       "      <th>F9</th>\n",
       "      <th>F10</th>\n",
       "      <th>F11</th>\n",
       "      <th>F12</th>\n",
       "      <th>F13</th>\n",
       "      <th>F14</th>\n",
       "      <th>F15</th>\n",
       "      <th>F16</th>\n",
       "      <th>F17</th>\n",
       "      <th>F18</th>\n",
       "      <th>F19</th>\n",
       "      <th>F20</th>\n",
       "      <th>F21</th>\n",
       "      <th>F22</th>\n",
       "      <th>F23</th>\n",
       "      <th>F24</th>\n",
       "      <th>F25</th>\n",
       "      <th>F26</th>\n",
       "      <th>F27</th>\n",
       "      <th>F28</th>\n",
       "    </tr>\n",
       "  </thead>\n",
       "  <tbody>\n",
       "    <tr>\n",
       "      <th>0</th>\n",
       "      <td>HOBBIES_1_001_CA_1_validation</td>\n",
       "      <td>0</td>\n",
       "      <td>0</td>\n",
       "      <td>0</td>\n",
       "      <td>0</td>\n",
       "      <td>0</td>\n",
       "      <td>0</td>\n",
       "      <td>0</td>\n",
       "      <td>0</td>\n",
       "      <td>0</td>\n",
       "      <td>0</td>\n",
       "      <td>0</td>\n",
       "      <td>0</td>\n",
       "      <td>0</td>\n",
       "      <td>0</td>\n",
       "      <td>0</td>\n",
       "      <td>0</td>\n",
       "      <td>0</td>\n",
       "      <td>0</td>\n",
       "      <td>0</td>\n",
       "      <td>0</td>\n",
       "      <td>0</td>\n",
       "      <td>0</td>\n",
       "      <td>0</td>\n",
       "      <td>0</td>\n",
       "      <td>0</td>\n",
       "      <td>0</td>\n",
       "      <td>0</td>\n",
       "      <td>0</td>\n",
       "    </tr>\n",
       "    <tr>\n",
       "      <th>1</th>\n",
       "      <td>HOBBIES_1_002_CA_1_validation</td>\n",
       "      <td>0</td>\n",
       "      <td>0</td>\n",
       "      <td>0</td>\n",
       "      <td>0</td>\n",
       "      <td>0</td>\n",
       "      <td>0</td>\n",
       "      <td>0</td>\n",
       "      <td>0</td>\n",
       "      <td>0</td>\n",
       "      <td>0</td>\n",
       "      <td>0</td>\n",
       "      <td>0</td>\n",
       "      <td>0</td>\n",
       "      <td>0</td>\n",
       "      <td>0</td>\n",
       "      <td>0</td>\n",
       "      <td>0</td>\n",
       "      <td>0</td>\n",
       "      <td>0</td>\n",
       "      <td>0</td>\n",
       "      <td>0</td>\n",
       "      <td>0</td>\n",
       "      <td>0</td>\n",
       "      <td>0</td>\n",
       "      <td>0</td>\n",
       "      <td>0</td>\n",
       "      <td>0</td>\n",
       "      <td>0</td>\n",
       "    </tr>\n",
       "    <tr>\n",
       "      <th>2</th>\n",
       "      <td>HOBBIES_1_003_CA_1_validation</td>\n",
       "      <td>0</td>\n",
       "      <td>0</td>\n",
       "      <td>0</td>\n",
       "      <td>0</td>\n",
       "      <td>0</td>\n",
       "      <td>0</td>\n",
       "      <td>0</td>\n",
       "      <td>0</td>\n",
       "      <td>0</td>\n",
       "      <td>0</td>\n",
       "      <td>0</td>\n",
       "      <td>0</td>\n",
       "      <td>0</td>\n",
       "      <td>0</td>\n",
       "      <td>0</td>\n",
       "      <td>0</td>\n",
       "      <td>0</td>\n",
       "      <td>0</td>\n",
       "      <td>0</td>\n",
       "      <td>0</td>\n",
       "      <td>0</td>\n",
       "      <td>0</td>\n",
       "      <td>0</td>\n",
       "      <td>0</td>\n",
       "      <td>0</td>\n",
       "      <td>0</td>\n",
       "      <td>0</td>\n",
       "      <td>0</td>\n",
       "    </tr>\n",
       "    <tr>\n",
       "      <th>3</th>\n",
       "      <td>HOBBIES_1_004_CA_1_validation</td>\n",
       "      <td>0</td>\n",
       "      <td>0</td>\n",
       "      <td>0</td>\n",
       "      <td>0</td>\n",
       "      <td>0</td>\n",
       "      <td>0</td>\n",
       "      <td>0</td>\n",
       "      <td>0</td>\n",
       "      <td>0</td>\n",
       "      <td>0</td>\n",
       "      <td>0</td>\n",
       "      <td>0</td>\n",
       "      <td>0</td>\n",
       "      <td>0</td>\n",
       "      <td>0</td>\n",
       "      <td>0</td>\n",
       "      <td>0</td>\n",
       "      <td>0</td>\n",
       "      <td>0</td>\n",
       "      <td>0</td>\n",
       "      <td>0</td>\n",
       "      <td>0</td>\n",
       "      <td>0</td>\n",
       "      <td>0</td>\n",
       "      <td>0</td>\n",
       "      <td>0</td>\n",
       "      <td>0</td>\n",
       "      <td>0</td>\n",
       "    </tr>\n",
       "    <tr>\n",
       "      <th>4</th>\n",
       "      <td>HOBBIES_1_005_CA_1_validation</td>\n",
       "      <td>0</td>\n",
       "      <td>0</td>\n",
       "      <td>0</td>\n",
       "      <td>0</td>\n",
       "      <td>0</td>\n",
       "      <td>0</td>\n",
       "      <td>0</td>\n",
       "      <td>0</td>\n",
       "      <td>0</td>\n",
       "      <td>0</td>\n",
       "      <td>0</td>\n",
       "      <td>0</td>\n",
       "      <td>0</td>\n",
       "      <td>0</td>\n",
       "      <td>0</td>\n",
       "      <td>0</td>\n",
       "      <td>0</td>\n",
       "      <td>0</td>\n",
       "      <td>0</td>\n",
       "      <td>0</td>\n",
       "      <td>0</td>\n",
       "      <td>0</td>\n",
       "      <td>0</td>\n",
       "      <td>0</td>\n",
       "      <td>0</td>\n",
       "      <td>0</td>\n",
       "      <td>0</td>\n",
       "      <td>0</td>\n",
       "    </tr>\n",
       "  </tbody>\n",
       "</table>\n",
       "</div>"
      ],
      "text/plain": [
       "                              id  F1  F2  F3  F4  F5  F6  F7  F8  F9  F10  \\\n",
       "0  HOBBIES_1_001_CA_1_validation   0   0   0   0   0   0   0   0   0    0   \n",
       "1  HOBBIES_1_002_CA_1_validation   0   0   0   0   0   0   0   0   0    0   \n",
       "2  HOBBIES_1_003_CA_1_validation   0   0   0   0   0   0   0   0   0    0   \n",
       "3  HOBBIES_1_004_CA_1_validation   0   0   0   0   0   0   0   0   0    0   \n",
       "4  HOBBIES_1_005_CA_1_validation   0   0   0   0   0   0   0   0   0    0   \n",
       "\n",
       "   F11  F12  F13  F14  F15  F16  F17  F18  F19  F20  F21  F22  F23  F24  F25  \\\n",
       "0    0    0    0    0    0    0    0    0    0    0    0    0    0    0    0   \n",
       "1    0    0    0    0    0    0    0    0    0    0    0    0    0    0    0   \n",
       "2    0    0    0    0    0    0    0    0    0    0    0    0    0    0    0   \n",
       "3    0    0    0    0    0    0    0    0    0    0    0    0    0    0    0   \n",
       "4    0    0    0    0    0    0    0    0    0    0    0    0    0    0    0   \n",
       "\n",
       "   F26  F27  F28  \n",
       "0    0    0    0  \n",
       "1    0    0    0  \n",
       "2    0    0    0  \n",
       "3    0    0    0  \n",
       "4    0    0    0  "
      ]
     },
     "execution_count": 44,
     "metadata": {},
     "output_type": "execute_result"
    }
   ],
   "source": [
    "try:\n",
    "    ss = pd.read_csv(path + \"sample_submission.csv\") # ローカル用\n",
    "except FileNotFoundError:\n",
    "    ss = pd.read_csv(f\"{INPUT_DIR}/sample_submission.csv\") # kaggle用\n",
    "\n",
    "ss.head()"
   ]
  },
  {
   "cell_type": "code",
   "execution_count": 45,
   "metadata": {},
   "outputs": [
    {
     "data": {
      "text/html": [
       "<div>\n",
       "<style scoped>\n",
       "    .dataframe tbody tr th:only-of-type {\n",
       "        vertical-align: middle;\n",
       "    }\n",
       "\n",
       "    .dataframe tbody tr th {\n",
       "        vertical-align: top;\n",
       "    }\n",
       "\n",
       "    .dataframe thead th {\n",
       "        text-align: right;\n",
       "    }\n",
       "</style>\n",
       "<table border=\"1\" class=\"dataframe\">\n",
       "  <thead>\n",
       "    <tr style=\"text-align: right;\">\n",
       "      <th></th>\n",
       "      <th>id</th>\n",
       "      <th>F1</th>\n",
       "      <th>F2</th>\n",
       "      <th>F3</th>\n",
       "      <th>F4</th>\n",
       "      <th>F5</th>\n",
       "      <th>F6</th>\n",
       "      <th>F7</th>\n",
       "      <th>F8</th>\n",
       "      <th>F9</th>\n",
       "      <th>F10</th>\n",
       "      <th>F11</th>\n",
       "      <th>F12</th>\n",
       "      <th>F13</th>\n",
       "      <th>F14</th>\n",
       "      <th>F15</th>\n",
       "      <th>F16</th>\n",
       "      <th>F17</th>\n",
       "      <th>F18</th>\n",
       "      <th>F19</th>\n",
       "      <th>F20</th>\n",
       "      <th>F21</th>\n",
       "      <th>F22</th>\n",
       "      <th>F23</th>\n",
       "      <th>F24</th>\n",
       "      <th>F25</th>\n",
       "      <th>F26</th>\n",
       "      <th>F27</th>\n",
       "      <th>F28</th>\n",
       "    </tr>\n",
       "  </thead>\n",
       "  <tbody>\n",
       "    <tr>\n",
       "      <th>0</th>\n",
       "      <td>HOBBIES_1_001_CA_1_validation</td>\n",
       "      <td>0.0</td>\n",
       "      <td>0.0</td>\n",
       "      <td>0.0</td>\n",
       "      <td>2.0</td>\n",
       "      <td>0.0</td>\n",
       "      <td>3.0</td>\n",
       "      <td>5.0</td>\n",
       "      <td>0.0</td>\n",
       "      <td>0.0</td>\n",
       "      <td>1.0</td>\n",
       "      <td>1.0</td>\n",
       "      <td>0.0</td>\n",
       "      <td>2.0</td>\n",
       "      <td>1.0</td>\n",
       "      <td>2.0</td>\n",
       "      <td>2.0</td>\n",
       "      <td>1.0</td>\n",
       "      <td>0.0</td>\n",
       "      <td>2.0</td>\n",
       "      <td>4.0</td>\n",
       "      <td>0.0</td>\n",
       "      <td>0.0</td>\n",
       "      <td>0.0</td>\n",
       "      <td>0.0</td>\n",
       "      <td>3.0</td>\n",
       "      <td>3.0</td>\n",
       "      <td>0.0</td>\n",
       "      <td>1.0</td>\n",
       "    </tr>\n",
       "    <tr>\n",
       "      <th>1</th>\n",
       "      <td>HOBBIES_1_002_CA_1_validation</td>\n",
       "      <td>0.0</td>\n",
       "      <td>1.0</td>\n",
       "      <td>0.0</td>\n",
       "      <td>0.0</td>\n",
       "      <td>0.0</td>\n",
       "      <td>0.0</td>\n",
       "      <td>0.0</td>\n",
       "      <td>0.0</td>\n",
       "      <td>0.0</td>\n",
       "      <td>1.0</td>\n",
       "      <td>0.0</td>\n",
       "      <td>0.0</td>\n",
       "      <td>0.0</td>\n",
       "      <td>0.0</td>\n",
       "      <td>0.0</td>\n",
       "      <td>0.0</td>\n",
       "      <td>0.0</td>\n",
       "      <td>0.0</td>\n",
       "      <td>0.0</td>\n",
       "      <td>1.0</td>\n",
       "      <td>2.0</td>\n",
       "      <td>1.0</td>\n",
       "      <td>1.0</td>\n",
       "      <td>0.0</td>\n",
       "      <td>0.0</td>\n",
       "      <td>0.0</td>\n",
       "      <td>0.0</td>\n",
       "      <td>0.0</td>\n",
       "    </tr>\n",
       "    <tr>\n",
       "      <th>2</th>\n",
       "      <td>HOBBIES_1_003_CA_1_validation</td>\n",
       "      <td>0.0</td>\n",
       "      <td>0.0</td>\n",
       "      <td>1.0</td>\n",
       "      <td>1.0</td>\n",
       "      <td>0.0</td>\n",
       "      <td>2.0</td>\n",
       "      <td>1.0</td>\n",
       "      <td>0.0</td>\n",
       "      <td>0.0</td>\n",
       "      <td>0.0</td>\n",
       "      <td>0.0</td>\n",
       "      <td>2.0</td>\n",
       "      <td>1.0</td>\n",
       "      <td>3.0</td>\n",
       "      <td>0.0</td>\n",
       "      <td>0.0</td>\n",
       "      <td>1.0</td>\n",
       "      <td>0.0</td>\n",
       "      <td>1.0</td>\n",
       "      <td>0.0</td>\n",
       "      <td>2.0</td>\n",
       "      <td>0.0</td>\n",
       "      <td>0.0</td>\n",
       "      <td>0.0</td>\n",
       "      <td>2.0</td>\n",
       "      <td>3.0</td>\n",
       "      <td>0.0</td>\n",
       "      <td>1.0</td>\n",
       "    </tr>\n",
       "    <tr>\n",
       "      <th>3</th>\n",
       "      <td>HOBBIES_1_004_CA_1_validation</td>\n",
       "      <td>0.0</td>\n",
       "      <td>0.0</td>\n",
       "      <td>1.0</td>\n",
       "      <td>2.0</td>\n",
       "      <td>4.0</td>\n",
       "      <td>1.0</td>\n",
       "      <td>6.0</td>\n",
       "      <td>4.0</td>\n",
       "      <td>0.0</td>\n",
       "      <td>0.0</td>\n",
       "      <td>0.0</td>\n",
       "      <td>2.0</td>\n",
       "      <td>2.0</td>\n",
       "      <td>4.0</td>\n",
       "      <td>2.0</td>\n",
       "      <td>1.0</td>\n",
       "      <td>1.0</td>\n",
       "      <td>1.0</td>\n",
       "      <td>1.0</td>\n",
       "      <td>1.0</td>\n",
       "      <td>0.0</td>\n",
       "      <td>4.0</td>\n",
       "      <td>0.0</td>\n",
       "      <td>1.0</td>\n",
       "      <td>3.0</td>\n",
       "      <td>0.0</td>\n",
       "      <td>2.0</td>\n",
       "      <td>6.0</td>\n",
       "    </tr>\n",
       "    <tr>\n",
       "      <th>4</th>\n",
       "      <td>HOBBIES_1_005_CA_1_validation</td>\n",
       "      <td>1.0</td>\n",
       "      <td>0.0</td>\n",
       "      <td>2.0</td>\n",
       "      <td>3.0</td>\n",
       "      <td>1.0</td>\n",
       "      <td>0.0</td>\n",
       "      <td>3.0</td>\n",
       "      <td>2.0</td>\n",
       "      <td>3.0</td>\n",
       "      <td>1.0</td>\n",
       "      <td>1.0</td>\n",
       "      <td>3.0</td>\n",
       "      <td>2.0</td>\n",
       "      <td>3.0</td>\n",
       "      <td>2.0</td>\n",
       "      <td>2.0</td>\n",
       "      <td>2.0</td>\n",
       "      <td>2.0</td>\n",
       "      <td>0.0</td>\n",
       "      <td>0.0</td>\n",
       "      <td>0.0</td>\n",
       "      <td>2.0</td>\n",
       "      <td>1.0</td>\n",
       "      <td>0.0</td>\n",
       "      <td>0.0</td>\n",
       "      <td>2.0</td>\n",
       "      <td>1.0</td>\n",
       "      <td>0.0</td>\n",
       "    </tr>\n",
       "  </tbody>\n",
       "</table>\n",
       "</div>"
      ],
      "text/plain": [
       "                              id   F1   F2   F3   F4   F5   F6   F7   F8   F9  \\\n",
       "0  HOBBIES_1_001_CA_1_validation  0.0  0.0  0.0  2.0  0.0  3.0  5.0  0.0  0.0   \n",
       "1  HOBBIES_1_002_CA_1_validation  0.0  1.0  0.0  0.0  0.0  0.0  0.0  0.0  0.0   \n",
       "2  HOBBIES_1_003_CA_1_validation  0.0  0.0  1.0  1.0  0.0  2.0  1.0  0.0  0.0   \n",
       "3  HOBBIES_1_004_CA_1_validation  0.0  0.0  1.0  2.0  4.0  1.0  6.0  4.0  0.0   \n",
       "4  HOBBIES_1_005_CA_1_validation  1.0  0.0  2.0  3.0  1.0  0.0  3.0  2.0  3.0   \n",
       "\n",
       "   F10  F11  F12  F13  F14  F15  F16  F17  F18  F19  F20  F21  F22  F23  F24  \\\n",
       "0  1.0  1.0  0.0  2.0  1.0  2.0  2.0  1.0  0.0  2.0  4.0  0.0  0.0  0.0  0.0   \n",
       "1  1.0  0.0  0.0  0.0  0.0  0.0  0.0  0.0  0.0  0.0  1.0  2.0  1.0  1.0  0.0   \n",
       "2  0.0  0.0  2.0  1.0  3.0  0.0  0.0  1.0  0.0  1.0  0.0  2.0  0.0  0.0  0.0   \n",
       "3  0.0  0.0  2.0  2.0  4.0  2.0  1.0  1.0  1.0  1.0  1.0  0.0  4.0  0.0  1.0   \n",
       "4  1.0  1.0  3.0  2.0  3.0  2.0  2.0  2.0  2.0  0.0  0.0  0.0  2.0  1.0  0.0   \n",
       "\n",
       "   F25  F26  F27  F28  \n",
       "0  3.0  3.0  0.0  1.0  \n",
       "1  0.0  0.0  0.0  0.0  \n",
       "2  2.0  3.0  0.0  1.0  \n",
       "3  3.0  0.0  2.0  6.0  \n",
       "4  0.0  2.0  1.0  0.0  "
      ]
     },
     "execution_count": 45,
     "metadata": {},
     "output_type": "execute_result"
    }
   ],
   "source": [
    "pre_uni_am = pd.concat([ss[\"id\"], pre_uni_am], axis=1)\n",
    "pre_uni_am.head()"
   ]
  },
  {
   "cell_type": "code",
   "execution_count": 46,
   "metadata": {},
   "outputs": [
    {
     "data": {
      "text/plain": [
       "44"
      ]
     },
     "execution_count": 46,
     "metadata": {},
     "output_type": "execute_result"
    }
   ],
   "source": [
    "del pre_uni, pre_uni2, pre_uni3\n",
    "gc.collect()"
   ]
  },
  {
   "cell_type": "code",
   "execution_count": 47,
   "metadata": {},
   "outputs": [],
   "source": [
    "pre_uni_am.to_csv('submission_uni.csv', index=False)"
   ]
  },
  {
   "cell_type": "code",
   "execution_count": 48,
   "metadata": {},
   "outputs": [
    {
     "data": {
      "text/plain": [
       "44"
      ]
     },
     "execution_count": 48,
     "metadata": {},
     "output_type": "execute_result"
    }
   ],
   "source": [
    "del pre_uni_am\n",
    "gc.collect()"
   ]
  },
  {
   "cell_type": "code",
   "execution_count": null,
   "metadata": {},
   "outputs": [],
   "source": []
  }
 ],
 "metadata": {
  "kernelspec": {
   "display_name": "Python 3",
   "language": "python",
   "name": "python3"
  },
  "language_info": {
   "codemirror_mode": {
    "name": "ipython",
    "version": 3
   },
   "file_extension": ".py",
   "mimetype": "text/x-python",
   "name": "python",
   "nbconvert_exporter": "python",
   "pygments_lexer": "ipython3",
   "version": "3.7.7"
  }
 },
 "nbformat": 4,
 "nbformat_minor": 4
}
